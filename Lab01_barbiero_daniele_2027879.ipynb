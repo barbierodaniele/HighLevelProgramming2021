{
 "cells": [
  {
   "cell_type": "markdown",
   "metadata": {},
   "source": [
    "1. The HelloWorld replacement\n",
    "\n",
    "a) Write a program that prints the numbers from 1 to 100. But for multiples of three print \"Hello\" instead of the number and for the multiples of five print \"World\". For numbers which are multiples of both three and five print \"HelloWorld\".\n",
    "\n",
    "b) Put the result in a tuple and substitute \"Hello\" with \"Python\" and \"World\" with \"Works\"."
   ]
  },
  {
   "cell_type": "code",
   "execution_count": 1,
   "metadata": {},
   "outputs": [
    {
     "name": "stdout",
     "output_type": "stream",
     "text": [
      "1\n",
      "2\n",
      "Python\n",
      "4\n",
      "Works\n",
      "Python\n",
      "7\n",
      "8\n",
      "Python\n",
      "Works\n",
      "11\n",
      "Python\n",
      "13\n",
      "14\n",
      "hello world\n",
      "16\n",
      "17\n",
      "Python\n",
      "19\n",
      "Works\n",
      "Python\n",
      "22\n",
      "23\n",
      "Python\n",
      "Works\n",
      "26\n",
      "Python\n",
      "28\n",
      "29\n",
      "hello world\n",
      "31\n",
      "32\n",
      "Python\n",
      "34\n",
      "Works\n",
      "Python\n",
      "37\n",
      "38\n",
      "Python\n",
      "Works\n",
      "41\n",
      "Python\n",
      "43\n",
      "44\n",
      "hello world\n",
      "46\n",
      "47\n",
      "Python\n",
      "49\n",
      "Works\n",
      "Python\n",
      "52\n",
      "53\n",
      "Python\n",
      "Works\n",
      "56\n",
      "Python\n",
      "58\n",
      "59\n",
      "hello world\n",
      "61\n",
      "62\n",
      "Python\n",
      "64\n",
      "Works\n",
      "Python\n",
      "67\n",
      "68\n",
      "Python\n",
      "Works\n",
      "71\n",
      "Python\n",
      "73\n",
      "74\n",
      "hello world\n",
      "76\n",
      "77\n",
      "Python\n",
      "79\n",
      "Works\n",
      "Python\n",
      "82\n",
      "83\n",
      "Python\n",
      "Works\n",
      "86\n",
      "Python\n",
      "88\n",
      "89\n",
      "hello world\n",
      "91\n",
      "92\n",
      "Python\n",
      "94\n",
      "Works\n",
      "Python\n",
      "97\n",
      "98\n",
      "Python\n",
      "Works\n"
     ]
    }
   ],
   "source": [
    "#barbiero daniele 2027879\n",
    "#1st exercise\n",
    "\n",
    "a=[]\n",
    "\n",
    "for i in range(1,101):    #the end is 101 to finish at 100\n",
    "    if  ( (i % 5 == 0) and (i % 3 == 0) ):   #this need to be the first condition otherwise one of the other will be verified\n",
    "        a.insert(i, 'hello world')           #and the double condition would never be verified\n",
    "        #print(a[i])\n",
    "        #print (\"hello world\")\n",
    "    elif i % 3 == 0:\n",
    "        a.insert(i, 'Python')\n",
    "        #print (\"hello\")\n",
    "        #print(a[i])\n",
    "    elif i%5 == 0:\n",
    "        a.insert(i, 'Works')\n",
    "        #print (\"world\")\n",
    "        #print(a[i])\n",
    "    else:\n",
    "        #print(i)\n",
    "        a.insert(i, i)\n",
    "        \n",
    "for i in range(0,100): \n",
    "    print(a[i])\n",
    "        \n",
    "t=tuple(a)"
   ]
  },
  {
   "cell_type": "markdown",
   "metadata": {},
   "source": [
    "2\\. The swap function\n",
    "\n",
    "Write a function that swap the values of two input variables x and y (whatever the type). Try to do that also without a temporary variable"
   ]
  },
  {
   "cell_type": "code",
   "execution_count": 2,
   "metadata": {},
   "outputs": [
    {
     "name": "stdout",
     "output_type": "stream",
     "text": [
      "ciao\n",
      "5\n"
     ]
    }
   ],
   "source": [
    "#2nd exercise\n",
    "\n",
    "def scambio(a,b):\n",
    "    return b,a       #a very smart, easy, stupid way to swap the two values\n",
    "\n",
    "a=5\n",
    "b='ciao'\n",
    "\n",
    "(a,b)=scambio(a,b)\n",
    "print(a)\n",
    "print(b)"
   ]
  },
  {
   "cell_type": "markdown",
   "metadata": {},
   "source": [
    "3\\. Computing the distance\n",
    "\n",
    "Write a function that calculates and returns the euclidean distance between two points *u* and *v*, where *u* and *v* are both 2-tuples *(x,y)*. For example, if *u=(3,0)* and *v=(0,4)*, the function should return 5"
   ]
  },
  {
   "cell_type": "code",
   "execution_count": 3,
   "metadata": {},
   "outputs": [
    {
     "name": "stdout",
     "output_type": "stream",
     "text": [
      "5.0\n"
     ]
    }
   ],
   "source": [
    "#3rd exercise\n",
    "\n",
    "def distance(a,b):\n",
    "    return( (a[0]-b[0])**2+ (a[1]-b[1])**2 ) **0.5\n",
    "\n",
    "a=[3,0]\n",
    "b=[0,4]\n",
    "d=distance(a,b)\n",
    "print(d)"
   ]
  },
  {
   "cell_type": "markdown",
   "metadata": {},
   "source": [
    "4\\. Counting letters\n",
    "\n",
    "Write a program to calculate the number of times each character occurs in a given string *s*. Ignore differences in capitalization"
   ]
  },
  {
   "cell_type": "code",
   "execution_count": 4,
   "metadata": {},
   "outputs": [
    {
     "name": "stdout",
     "output_type": "stream",
     "text": [
      "w 4\n",
      "r 19\n",
      "i 12\n",
      "t 19\n",
      "e 20\n",
      "  41\n",
      "a 7\n",
      "p 8\n",
      "o 15\n",
      "g 1\n",
      "m 8\n",
      "h 11\n",
      "n 10\n",
      "s 7\n",
      "u 7\n",
      "b 5\n",
      "f 10\n",
      "1 2\n",
      "0 2\n",
      ". 3\n",
      "l 12\n",
      "d 5\n",
      "v 2\n",
      "c 1\n"
     ]
    }
   ],
   "source": [
    "# 4th exercise, conunting letters\n",
    "\n",
    "a='Write a program that prints the numbers from 1 to 100. \\\n",
    "But for multiples of three print Hello instead of the number and for the multiples of five print World. \\\n",
    "For numbers which are multiples of both three and five print HelloWorld.'\n",
    "\n",
    "a=a.lower()   #in this way there is no problem of upper or lower letters\n",
    "b=list(a)     #b now contains all the characters of a\n",
    "k=0\n",
    "l=len(b)\n",
    "\n",
    "lettere=[]\n",
    "cont=[]\n",
    "#print(l)\n",
    "\n",
    "for i in range(0,l):     \n",
    "    temp=b[i]\n",
    "    check=False\n",
    "\n",
    "    for j in range(0,len(lettere)):\n",
    "        if temp == lettere[j]:\n",
    "            check = True\n",
    "    if check == False:\n",
    "        lettere.insert(k,temp)\n",
    "        cont.insert(k,b.count(b[i]))\n",
    "        print(str(lettere[k]) + \" \" + str(cont[k]))\n",
    "        k +=1\n",
    "        \n",
    "#the first time the cycle produces only falses so creats the list of letters, and then stats to count"
   ]
  },
  {
   "cell_type": "code",
   "execution_count": 5,
   "metadata": {},
   "outputs": [],
   "source": [
    "s = \"Write a program that prints the numbers from 1 to 100. \\\n",
    "But for multiples of three print Hello instead of the number and for the multiples of five print World. \\\n",
    "For numbers which are multiples of both three and five print HelloWorld.\""
   ]
  },
  {
   "cell_type": "markdown",
   "metadata": {},
   "source": [
    "5\\. Isolating the unique\n",
    "\n",
    "Write a function that determines and count the unique numbers in the list:"
   ]
  },
  {
   "cell_type": "code",
   "execution_count": 6,
   "metadata": {},
   "outputs": [
    {
     "name": "stdout",
     "output_type": "stream",
     "text": [
      "[58, 74, 96, 64, 10, 24, 19, 33, 86, 99, 18, 47, 88, 55, 54, 8, 79, 81, 57, 37, 1, 9, 95, 90, 98, 39, 16, 82, 92, 41, 30, 94, 5, 72, 87, 75, 53]\n",
      "37\n",
      "[1, 5, 8, 9, 10, 16, 18, 19, 24, 30, 33, 37, 39, 41, 47, 53, 54, 55, 57, 58, 64, 72, 74, 75, 79, 81, 82, 86, 87, 88, 90, 92, 94, 95, 96, 98, 99]\n",
      "37\n"
     ]
    }
   ],
   "source": [
    "l = [36, 45, 58, 3, 74, 96, 64, 45, 31, 10, 24, 19, 33, 86, 99, 18, 63, 70, 85,\n",
    " 85, 63, 47, 56, 42, 70, 84, 88, 55, 20, 54, 8, 56, 51, 79, 81, 57, 37, 91,\n",
    " 1, 84, 84, 36, 66, 9, 89, 50, 42, 91, 50, 95, 90, 98, 39, 16, 82, 31, 92, 41,\n",
    " 45, 30, 66, 70, 34, 85, 94, 5, 3, 36, 72, 91, 84, 34, 87, 75, 53, 51, 20, 89, 51, 20]\n",
    "\n",
    "\n",
    "def finder(a):\n",
    "    unique=[]\n",
    "   \n",
    "    index=0\n",
    "    for i in range(0, len(a)):\n",
    "        k=0\n",
    "        for j in range(0,len(a)):\n",
    "            if (a[j]==a[i]) and (j!=i):\n",
    "                k += 1\n",
    "        if k==0:\n",
    "            unique.insert(index,a[i])\n",
    "            index+=1\n",
    "    return (unique)\n",
    "\n",
    "c=(finder(l))\n",
    "print(c)\n",
    "print(len(c))\n",
    "\n",
    "#using the count function\n",
    "only=[]\n",
    "t=0\n",
    "for i in range( min(l) ,max(l)+1):\n",
    "    \n",
    "    if l.count(i)==1:\n",
    "        #print(i)\n",
    "        only.insert(t, i)\n",
    "        t=t+1\n",
    "        \n",
    "print(only)    #the lenght is the same, the difference is that is this case elements are ordered \n",
    "print(len(only))\n"
   ]
  },
  {
   "cell_type": "markdown",
   "metadata": {},
   "source": [
    "Do the same without using user-defined functions, but exploiting only the Python data structures."
   ]
  },
  {
   "cell_type": "markdown",
   "metadata": {},
   "source": [
    "6\\. Combination of functions\n",
    "\n",
    "Write two functions - one that returns the square of a number, and one that returns the cube. Now write a third function that returns the number raised to the 6th power using the two previous functions."
   ]
  },
  {
   "cell_type": "code",
   "execution_count": 7,
   "metadata": {},
   "outputs": [
    {
     "name": "stdout",
     "output_type": "stream",
     "text": [
      "64\n"
     ]
    }
   ],
   "source": [
    "#6th exercise\n",
    "\n",
    "def square(a):\n",
    "    return a**2\n",
    "\n",
    "def cube(a):\n",
    "    return a**3\n",
    "\n",
    "def six_power(a):\n",
    "    return square(cube(a))\n",
    "\n",
    "a=2\n",
    "b=six_power(a)\n",
    "print(b)"
   ]
  },
  {
   "cell_type": "markdown",
   "metadata": {},
   "source": [
    "7\\. Cubes\n",
    "\n",
    "Create a list of the cubes of x for x in *[0, 10]* using:\n",
    "\n",
    "a) a for loop\n",
    "\n",
    "b) a list comprehension"
   ]
  },
  {
   "cell_type": "code",
   "execution_count": 8,
   "metadata": {},
   "outputs": [
    {
     "name": "stdout",
     "output_type": "stream",
     "text": [
      "[1, 8, 27, 64, 125, 216, 343, 512, 729, 1000]\n",
      "[1, 8, 27, 64, 125, 216, 343, 512, 729, 1000]\n"
     ]
    }
   ],
   "source": [
    "#7th excercise\n",
    "def cube(a):\n",
    "    return a**3\n",
    "b1=[]\n",
    "for i in range(1,11):\n",
    "    b1.insert(i,cube(i))\n",
    "print(b1)\n",
    "\n",
    "\n",
    "b2=[cube(x) for x in range(1,11)]   #end with 11 because otherwise would finish with 9^3=729\n",
    "print(b2)"
   ]
  },
  {
   "cell_type": "markdown",
   "metadata": {},
   "source": [
    "8\\. Nested list comprehension\n",
    "\n",
    "A Pythagorean triple is an integer solution to the Pythagorean theorem $a^2+b^2=c^2$. The first Pythagorean triple is (3,4,5). Find and put in a tuple all unique Pythagorean triples for the positive integers a, b and c less than 100."
   ]
  },
  {
   "cell_type": "code",
   "execution_count": 9,
   "metadata": {},
   "outputs": [
    {
     "name": "stdout",
     "output_type": "stream",
     "text": [
      "  3,  4,  5\n",
      "  5, 12, 13\n",
      "  6,  8, 10\n",
      "  7, 24, 25\n",
      "  8, 15, 17\n",
      "  9, 12, 15\n",
      "  9, 40, 41\n",
      " 10, 24, 26\n",
      " 11, 60, 61\n",
      " 12, 16, 20\n",
      " 12, 35, 37\n",
      " 13, 84, 85\n",
      " 14, 48, 50\n",
      " 15, 20, 25\n",
      " 15, 36, 39\n",
      " 16, 30, 34\n",
      " 16, 63, 65\n",
      " 18, 24, 30\n",
      " 18, 80, 82\n",
      " 20, 21, 29\n",
      " 20, 48, 52\n",
      " 21, 72, 75\n",
      " 21, 28, 35\n",
      " 24, 32, 40\n",
      " 24, 70, 74\n",
      " 25, 60, 65\n",
      " 24, 45, 51\n",
      " 27, 36, 45\n",
      " 28, 45, 53\n",
      " 30, 40, 50\n",
      " 30, 72, 78\n",
      " 32, 60, 68\n",
      " 33, 44, 55\n",
      " 33, 56, 65\n",
      " 35, 84, 91\n",
      " 36, 48, 60\n",
      " 36, 77, 85\n",
      " 39, 52, 65\n",
      " 39, 80, 89\n",
      " 40, 42, 58\n",
      " 40, 75, 85\n",
      " 42, 56, 70\n",
      " 45, 60, 75\n",
      " 48, 55, 73\n",
      " 48, 64, 80\n",
      " 51, 68, 85\n",
      " 54, 72, 90\n",
      " 57, 76, 95\n",
      " 60, 63, 87\n",
      " 65, 72, 97\n"
     ]
    }
   ],
   "source": [
    "#8th exercise\n",
    "\n",
    "c=[]\n",
    "    \n",
    "for i in range(1,101):    #metterci 101\n",
    "    for j in range(1,101):\n",
    "        #print('%3d,%3d'%(i,j)) #verify that the index goes in the right range\n",
    "        d=((i**2+j**2)**0.5)\n",
    "        #print(d)\n",
    "        if((d%1==0)and(j>i)and(d<100)):  \n",
    "            c.insert(i,'%3d,%3d,%3d'%(i,j,d))\n",
    "            #print('%3d,%3d,%3d'%(i,j,d))\n",
    "\n",
    "for i in range(0,len(c)):\n",
    "    print(c[i])  \n",
    "    \n",
    "    #note, they are not primitive because the text don't require it. so for example the combination of 6,8,10 is clearly a multiple of 3,4,5"
   ]
  },
  {
   "cell_type": "markdown",
   "metadata": {},
   "source": [
    "9\\. Normalization\n",
    "\n",
    "Write a function that takes a tuple of numbers and returns it with the entries normalized to one"
   ]
  },
  {
   "cell_type": "code",
   "execution_count": 10,
   "metadata": {},
   "outputs": [
    {
     "name": "stdout",
     "output_type": "stream",
     "text": [
      "2\n",
      "0.3333333333333333\n",
      "0.3333333333333333\n",
      "0.3333333333333333\n"
     ]
    }
   ],
   "source": [
    "def norm(a):\n",
    "    somma=0    #variable useful for the sommatory\n",
    "    temp=[]    #a list is used because tuple cannot be modified\n",
    "    normalized=()\n",
    "    for i in range(0,len(a)):\n",
    "        somma+=a[i]\n",
    "    #print(somma)\n",
    "    for i in range(0,len(a)):\n",
    "        temp.insert(i,a[i]/somma)\n",
    "        print(temp[i])\n",
    "    normalized=tuple(temp)\n",
    "    return normalized\n",
    "print(a)\n",
    "a=(5,5,5)\n",
    "c=norm(a)"
   ]
  }
 ],
 "metadata": {
  "kernelspec": {
   "display_name": "Python 3",
   "language": "python",
   "name": "python3"
  },
  "language_info": {
   "codemirror_mode": {
    "name": "ipython",
    "version": 3
   },
   "file_extension": ".py",
   "mimetype": "text/x-python",
   "name": "python",
   "nbconvert_exporter": "python",
   "pygments_lexer": "ipython3",
   "version": "3.8.8"
  }
 },
 "nbformat": 4,
 "nbformat_minor": 4
}
