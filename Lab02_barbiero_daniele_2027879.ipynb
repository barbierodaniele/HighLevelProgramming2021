{
 "cells": [
  {
   "cell_type": "markdown",
   "metadata": {},
   "source": [
    "1. Write the following expressions using the list comprehension"
   ]
  },
  {
   "cell_type": "code",
   "execution_count": 1,
   "metadata": {},
   "outputs": [
    {
     "name": "stdout",
     "output_type": "stream",
     "text": [
      "[(0, 0), (0, 1), (0, 2), (0, 3), (1, 0), (1, 1), (1, 2), (1, 3), (2, 0), (2, 1), (2, 2), (2, 3)]\n",
      "[1, 9, 25, 49, 81]\n"
     ]
    }
   ],
   "source": [
    "# 1\n",
    "ans = []\n",
    "for i in range(3):\n",
    "    for j in range(4):\n",
    "        ans.append((i, j))\n",
    "print(ans)\n",
    "\n",
    "# 2\n",
    "ans = map(lambda x: x * x, filter(lambda x: x % 2 == 1, range(10)))\n",
    "print(list(ans))"
   ]
  },
  {
   "cell_type": "code",
   "execution_count": 2,
   "metadata": {},
   "outputs": [
    {
     "name": "stdout",
     "output_type": "stream",
     "text": [
      "[(0, 0), (0, 1), (0, 2), (0, 3), (1, 0), (1, 1), (1, 2), (1, 3), (2, 0), (2, 1), (2, 2), (2, 3)]\n",
      "[(0, 0), (0, 1), (0, 2), (0, 3), (1, 0), (1, 1), (1, 2), (1, 3), (2, 0), (2, 1), (2, 2), (2, 3)]\n",
      "[1, 9, 25, 49, 81]\n",
      "[1, 9, 25, 49, 81]\n"
     ]
    }
   ],
   "source": [
    "#Lab 02 barbiero daniele \n",
    "#1st exercise\n",
    "\n",
    "ans = []\n",
    "for i in range(3):\n",
    "    for j in range(4):\n",
    "        ans.append((i, j))\n",
    "print(ans)\n",
    "\n",
    "#double range, with comprehension\n",
    "l=[(i,j) for i in range(3) for j in range (4)]\n",
    "print(l)\n",
    "\n",
    "#square of even number smaller or equal than 9 with comprehension\n",
    "ans = map(lambda x: x * x, filter(lambda x: x % 2 == 1, range(10)))\n",
    "print(list(ans))\n",
    "\n",
    "l2=[x**2 for x in range(0,10) if x % 2 == 1]\n",
    "print(l2)"
   ]
  },
  {
   "cell_type": "markdown",
   "metadata": {},
   "source": [
    "2\\. Convert the function $f$ into a function that doesn't use global variables and that does not modify the original list"
   ]
  },
  {
   "cell_type": "code",
   "execution_count": 3,
   "metadata": {},
   "outputs": [
    {
     "name": "stdout",
     "output_type": "stream",
     "text": [
      "[1, 2, 3, 0, 1, 2, 3, 4]\n",
      "[1, 2, 3, 0, 1, 2, 3, 4]\n"
     ]
    }
   ],
   "source": [
    "x = 5\n",
    "def f(alist):\n",
    "    for i in range(x):\n",
    "         alist.append(i)\n",
    "    return alist\n",
    "\n",
    "alist = [1,2,3]\n",
    "ans = f(alist)\n",
    "print(ans)\n",
    "print(alist) # alist has been changed!"
   ]
  },
  {
   "cell_type": "code",
   "execution_count": 1,
   "metadata": {},
   "outputs": [
    {
     "name": "stdout",
     "output_type": "stream",
     "text": [
      "[1, 2, 3, 0, 1, 2, 3, 4]\n",
      "[1, 2, 3, 0, 1, 2, 3, 4]\n",
      "[1, 2, 3]\n",
      "[1, 2, 3, 0, 1, 2, 3, 4]\n"
     ]
    }
   ],
   "source": [
    "#2nd exercise\n",
    "\n",
    "x = 5\n",
    "def f(alist):\n",
    "    for i in range(x):\n",
    "         alist.append(i)\n",
    "    return alist\n",
    "\n",
    "alist = [1,2,3]\n",
    "ans = f(alist)\n",
    "print(ans)\n",
    "print(alist) # alist has been changed!\n",
    "\n",
    "def nochange(alist,n):\n",
    "    tmp=list(alist)\n",
    "    for i in range(n):\n",
    "        tmp.append(i)\n",
    "    return tmp\n",
    "\n",
    "alist = [1,2,3]\n",
    "print(alist)\n",
    "print(nochange(alist,x)) # alist has not been changed!\n"
   ]
  },
  {
   "cell_type": "markdown",
   "metadata": {},
   "source": [
    "3\\. Write a `decorator` hello that makes every wrapped function print “Hello!”, i.e. something like:\n",
    "\n",
    "```python\n",
    "@hello\n",
    "def square(x):\n",
    "    return x*x\n",
    "```\n",
    "\n"
   ]
  },
  {
   "cell_type": "code",
   "execution_count": 2,
   "metadata": {},
   "outputs": [
    {
     "name": "stdout",
     "output_type": "stream",
     "text": [
      "hello\n",
      "    4\n",
      "hello\n"
     ]
    }
   ],
   "source": [
    "#3rd exercise \n",
    "#Write a decorator hello that makes every wrapped function print “Hello!”, i.e. something like:\n",
    "\n",
    "#@hello\n",
    "\n",
    "x=2\n",
    "\n",
    "def my_decorator(func):\n",
    "    def wrapper(x):\n",
    "        print(\"hello\")\n",
    "        func(x)\n",
    "        print(\"hello\")\n",
    "    return wrapper\n",
    "\n",
    "@my_decorator\n",
    "def square(x):\n",
    "    print('%5d'%(x*x) )\n",
    "\n",
    "square(x)"
   ]
  },
  {
   "cell_type": "markdown",
   "metadata": {},
   "source": [
    "4\\. Write the factorial function in two different ways, so that it a) does and b) does not use recursion."
   ]
  },
  {
   "cell_type": "code",
   "execution_count": 3,
   "metadata": {},
   "outputs": [
    {
     "name": "stdout",
     "output_type": "stream",
     "text": [
      "120\n",
      "120\n"
     ]
    }
   ],
   "source": [
    "#4th exercise\n",
    "\n",
    "#4. Write the factorial function in two different ways, so that it a) does and b) does not use recursion.\n",
    "\n",
    "def fattoriale(x):\n",
    "    if(x==0)and(x==0):\n",
    "        return 1\n",
    "    return x*fattoriale(x-1)\n",
    "\n",
    "print(fattoriale(5))\n",
    "\n",
    "\n",
    "from functools import reduce\n",
    "\n",
    "def product(x, y):\n",
    "        return x * y\n",
    "\n",
    "def fact(x):\n",
    "    tmp=list([i for i in range(1,x+1)])  #I excluded the 0 value to avoid problem on the subsequent product with reduce\n",
    "    return (reduce(product, tmp))\n",
    "\n",
    "x=5\n",
    "print(fact(x))"
   ]
  },
  {
   "cell_type": "markdown",
   "metadata": {},
   "source": [
    "5\\. Use HOFs (zip in particular) to compute the weight of a circle, a disk and a sphere, assuming different radii and different densities:\n",
    "\n",
    "```python\n",
    "densities = {\"Al\" : [0.5, 1, 2], \"Fe\" : [3, 4, 5], \"Pb\" : [15, 20, 30]}\n",
    "radii = [1, 2, 3]\n",
    "```\n",
    "\n",
    "where the entries of the dictionary's values are the linear, superficial and volumetric densities of the materials respectively.\n",
    "\n",
    "Subsequently, define a list using a comprehension with three lambda functions that compute the circumference, the area and the volume for a given radius.\n"
   ]
  },
  {
   "cell_type": "code",
   "execution_count": 4,
   "metadata": {},
   "outputs": [
    {
     "name": "stdout",
     "output_type": "stream",
     "text": [
      "Al\n",
      "the radius is: 1\n",
      "circular:  3.141592653589793 superficial: 3.141592653589793  volumetric: 8.377580409572781\n",
      "the radius is: 2\n",
      "circular:  6.283185307179586 superficial: 12.566370614359172  volumetric: 67.02064327658225\n",
      "the radius is: 3\n",
      "circular:  9.42477796076938 superficial: 28.274333882308138  volumetric: 226.19467105846508\n",
      "Fe\n",
      "the radius is: 1\n",
      "circular:  18.84955592153876 superficial: 12.566370614359172  volumetric: 20.94395102393195\n",
      "the radius is: 2\n",
      "circular:  37.69911184307752 superficial: 50.26548245743669  volumetric: 167.5516081914556\n",
      "the radius is: 3\n",
      "circular:  56.548667764616276 superficial: 113.09733552923255  volumetric: 565.4866776461627\n",
      "Pb\n",
      "the radius is: 1\n",
      "circular:  94.24777960769379 superficial: 62.83185307179586  volumetric: 125.66370614359171\n",
      "the radius is: 2\n",
      "circular:  188.49555921538757 superficial: 251.32741228718345  volumetric: 1005.3096491487337\n",
      "the radius is: 3\n",
      "circular:  282.7433388230814 superficial: 565.4866776461628  volumetric: 3392.920065876976\n"
     ]
    }
   ],
   "source": [
    "#5th exercise \n",
    "#5. Use HOFs (zip in particular) to compute the weight of a circle, a disk and a sphere, assuming different radii and different densities:\n",
    "\n",
    "from math import pi\n",
    "\n",
    "densities = {\"Al\" : [0.5, 1, 2], \"Fe\" : [3, 4, 5], \"Pb\" : [15, 20, 30]}\n",
    "radii = [1, 2, 3]\n",
    "\n",
    "\n",
    "def linear(r):\n",
    "    r=list(r)\n",
    "    tmp=[]\n",
    "    for i in range(0,3):\n",
    "        tmp.append(2*pi*r[i])\n",
    "    return tmp\n",
    "\n",
    "def superficial(r):\n",
    "    r=list(r)\n",
    "    tmp=[]\n",
    "    for i in range(0,3):\n",
    "        tmp.append(pi*r[i]**2)\n",
    "    return tmp\n",
    "\n",
    "def volumetric(r):\n",
    "    r=list(r)\n",
    "    tmp=[]\n",
    "    for i in range(0,3):\n",
    "        tmp.append((4/3)*pi*r[i]**3)\n",
    "    return tmp   \n",
    "\n",
    "def volume(r,d):\n",
    "    r=list(r)\n",
    "    d=list(d)\n",
    "    l=linear(r)\n",
    "    s=superficial(r)\n",
    "    v=volumetric(r)\n",
    "    for i in range(0,len(l)):\n",
    "        print('the radius is: ' + str(r[i]))\n",
    "        print('circular:  ' + str(l[i]*d[0]) + ' superficial: ' +  str(s[i]*d[1]) + '  volumetric: ' + str(v[i]*d[2]))\n",
    "for j in densities:\n",
    "    print(j)\n",
    "    volume(radii, densities[j])\n",
    "\n",
    "#second part, with lambda functions    \n",
    "import math\n",
    "circumference=lambda r: 2*math.pi*r\n",
    "area=lambda r: math.pi*r**2\n",
    "volume_lambda=lambda r: (4/3)*math.pi*r**3\n",
    "    \n",
    "list_circumference=[circumference(r) for r in radii]\n",
    "list_area=[area(r) for r in radii]\n",
    "list_volume=[volume_lambda(r) for r in radii]\n"
   ]
  },
  {
   "cell_type": "markdown",
   "metadata": {},
   "source": [
    "6\\. Edit the class defintion to add an instance attribute of `is_hungry = True` to the Dog class. Then add a method called `eat()` which changes the value of `is_hungry` to `False` when called. Figure out the best way to instantiate the dog objects and to feed the dogs, e.g. call the `eat()` method for all instances. Finally, print “My dogs are hungry.” or “My dogs are not hungry.” if all of them have `is_hungry = True` or `False`, respectively. The final output should look like this:\n",
    "\n",
    "`I have 3 dogs. \n",
    "Tom is 6. \n",
    "Fletcher is 7. \n",
    "Larry is 9. \n",
    "And they're all mammals, of course. \n",
    "My dogs are not hungry.\n",
    "`\n",
    "\n",
    "```python\n",
    "# Parent class\n",
    "class Dog:\n",
    "\n",
    "    # Class attribute\n",
    "    species = 'mammal'\n",
    "\n",
    "    # Initializer / Instance attributes\n",
    "    def __init__(self, name, age):\n",
    "        self.name = name\n",
    "        self.age = age\n",
    "\n",
    "    # instance method\n",
    "    def description(self):\n",
    "        return \"{} is {} years old\".format(self.name, self.age)\n",
    "\n",
    "    # instance method\n",
    "    def speak(self, sound):\n",
    "        return \"{} says {}\".format(self.name, sound)\n",
    "\n",
    "# Child class (inherits from Dog class)\n",
    "class RussellTerrier(Dog):\n",
    "    def run(self, speed):\n",
    "        return \"{} runs {}\".format(self.name, speed)\n",
    "\n",
    "# Child class (inherits from Dog class)\n",
    "class Bulldog(Dog):\n",
    "    def run(self, speed):\n",
    "        return \"{} runs {}\".format(self.name, speed)\n",
    "```"
   ]
  },
  {
   "cell_type": "code",
   "execution_count": 5,
   "metadata": {},
   "outputs": [
    {
     "name": "stdout",
     "output_type": "stream",
     "text": [
      "leo 16\n",
      "True\n",
      "False\n"
     ]
    }
   ],
   "source": [
    "#6th exercise\n",
    "# Parent class\n",
    "class Dog:\n",
    "\n",
    "    # Class attribute\n",
    "    species = 'mammal'\n",
    "    is_hungry=True\n",
    "    # Initializer / Instance attributes\n",
    "    def __init__(self, name, age):\n",
    "        self.name = name\n",
    "        self.age = age\n",
    "\n",
    "        \n",
    "    # instance method\n",
    "    def description(self):\n",
    "        return \"{} is {} years old\".format(self.name, self.age)\n",
    "\n",
    "    # instance method\n",
    "    def speak(self, sound):\n",
    "        return \"{} says {}\".format(self.name, sound)\n",
    "    \n",
    "    def eat(self):\n",
    "        self.is_hungry=False\n",
    "    \n",
    "# Child class (inherits from Dog class)\n",
    "class RussellTerrier(Dog):\n",
    "    def run(self, speed):\n",
    "        return \"{} runs {}\".format(self.name, speed)\n",
    "# Child class (inherits from Dog class)\n",
    "class Bulldog(Dog):\n",
    "    def run(self, speed):\n",
    "        return \"{} runs {}\".format(self.name, speed)\n",
    "\n",
    "\n",
    "leo = Dog(\"leo\", 16) # Create instance of class \"Pet\"\n",
    "print(leo.name, leo.age)\n",
    "print(leo.is_hungry)\n",
    "leo.eat()\n",
    "print(leo.is_hungry)\n",
    "\n",
    "buddy=Dog(\"buddy\",9)\n",
    "#buddy.eat()\n",
    "\n",
    "\n",
    "if(leo.is_hungry==True)and((buddy.is_hungry==True)):\n",
    "    print('My dogs are hungry')\n",
    "elif(leo.is_hungry==False)and((buddy.is_hungry==False)):\n",
    "    print('My dogs are not hungry')"
   ]
  },
  {
   "cell_type": "code",
   "execution_count": null,
   "metadata": {},
   "outputs": [],
   "source": []
  },
  {
   "cell_type": "code",
   "execution_count": null,
   "metadata": {},
   "outputs": [],
   "source": []
  }
 ],
 "metadata": {
  "kernelspec": {
   "display_name": "Python 3",
   "language": "python",
   "name": "python3"
  },
  "language_info": {
   "codemirror_mode": {
    "name": "ipython",
    "version": 3
   },
   "file_extension": ".py",
   "mimetype": "text/x-python",
   "name": "python",
   "nbconvert_exporter": "python",
   "pygments_lexer": "ipython3",
   "version": "3.8.8"
  }
 },
 "nbformat": 4,
 "nbformat_minor": 4
}
