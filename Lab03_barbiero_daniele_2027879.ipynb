{
 "cells": [
  {
   "cell_type": "markdown",
   "metadata": {},
   "source": [
    "1\\. Write a function that converts numbers among the bin, dec, and hex representations (bin<->dec<->hex)"
   ]
  },
  {
   "cell_type": "code",
   "execution_count": 1,
   "metadata": {},
   "outputs": [
    {
     "data": {
      "text/plain": [
       "{'bin': '0b11', 'dec': 3, 'hex': '0x3'}"
      ]
     },
     "execution_count": 1,
     "metadata": {},
     "output_type": "execute_result"
    }
   ],
   "source": [
    "#1st exercise\n",
    "x=3;\n",
    "base=10;\n",
    "def convert(x,base):       #it's required to specify the base \n",
    "    if base==2:\n",
    "        tmp={'bin': x, 'dec': int(x,2), 'hex': int(x, 16)}\n",
    "    if base==10:\n",
    "        tmp={'bin': bin(x), 'dec': x, 'hex': hex(x)}   \n",
    "    if base==16:\n",
    "        tmp={'bin': bin(int (x,16)), 'dec': int(x,16), 'hex': (x)}   #important point, it's needed to convert first in base 10 and then in base 2\n",
    "    return tmp\n",
    "\n",
    "convert(3,10)\n"
   ]
  },
  {
   "cell_type": "markdown",
   "metadata": {},
   "source": [
    "2\\. Write a function that converts a 32 bit word into a single precision floating point (i.e. interprets the various bits as sign, mantissa and exponent) and check its validity."
   ]
  },
  {
   "cell_type": "code",
   "execution_count": 2,
   "metadata": {},
   "outputs": [
    {
     "name": "stdout",
     "output_type": "stream",
     "text": [
      "1.6967250108718872\n",
      "120\n"
     ]
    },
    {
     "data": {
      "text/plain": [
       "0.013255664147436619"
      ]
     },
     "execution_count": 2,
     "metadata": {},
     "output_type": "execute_result"
    }
   ],
   "source": [
    "#2nd exercise\n",
    "\n",
    "x=\"00111100010110010010111001001001\"\n",
    "\n",
    "def conv(x):\n",
    "    #x=list(x)\n",
    "    s=int(x[0])\n",
    "    e=int(x[1:9],2)\n",
    "    f=x[9:32]\n",
    "\n",
    "    l=1\n",
    "    bias=127\n",
    "    mantissa=1\n",
    "    for i in f:\n",
    "        mantissa+=(int(i))*2**(-l)\n",
    "        l+=1\n",
    "    print(mantissa)\n",
    "    print(e)\n",
    "    return ((-1)**s)*mantissa*2**(e-bias)\n",
    "     \n",
    "conv(x)"
   ]
  },
  {
   "cell_type": "markdown",
   "metadata": {},
   "source": [
    "3\\. Write a program to determine the underflow and overflow limits (within a factor of 2) for python on your computer. \n",
    "\n",
    "**Tip**: define two variables initialized to 1 and halve/double them for a sufficient amount of times to exceed the under/over-flow limits  "
   ]
  },
  {
   "cell_type": "code",
   "execution_count": 3,
   "metadata": {},
   "outputs": [
    {
     "name": "stdout",
     "output_type": "stream",
     "text": [
      "the larger number is 2^1024\n",
      "the smaller number is 2^-1074\n"
     ]
    }
   ],
   "source": [
    "#3rd exercise\n",
    "import math\n",
    "import sys\n",
    "\n",
    "test = math.inf\n",
    "find_max = 1.0\n",
    "find_min = 1.0\n",
    "\n",
    "cont_max = 0\n",
    "while(find_max != test):\n",
    "    find_max *= 2\n",
    "    cont_max += 1\n",
    "\n",
    "print('the larger number is 2^' + str(cont_max))\n",
    "\n",
    "cont_min=0\n",
    "while(find_min != 0):\n",
    "    find_min /= 2\n",
    "    cont_min += 1\n",
    "    \n",
    "print('the smaller number is 2^' + str(-(cont_min-1)))   #there is the -1 because when find_min=0, cont_min will be updated another time"
   ]
  },
  {
   "cell_type": "markdown",
   "metadata": {},
   "source": [
    "4\\. Write a program to determine the machine precision\n",
    "\n",
    "**Tip**: define a new variable by adding an increasingly smaller value (in the same way as the previous problem) and check when the addition starts to have no effect on the number"
   ]
  },
  {
   "cell_type": "code",
   "execution_count": 4,
   "metadata": {},
   "outputs": [
    {
     "name": "stdout",
     "output_type": "stream",
     "text": [
      "machine precision: 1e-16\n"
     ]
    }
   ],
   "source": [
    "#4th exercise\n",
    "a=1\n",
    "i=1\n",
    "b=2\n",
    "\n",
    "while(b!=a):   #check the difference\n",
    "    i=i+1\n",
    "    a=b     #to move the refercence point\n",
    "    b=b+10**(-i)    #increase a little bit the value of \n",
    "\n",
    "#print(i)     #it's 10^-16 that is comparabile with 2^-53, indeed if we swap 10 with 2 we obtain 53\n",
    "print('machine precision: ' + str(10**-i))"
   ]
  },
  {
   "cell_type": "markdown",
   "metadata": {},
   "source": [
    "5\\. Write a function that takes in input three parameters $a$, $b$ and $c$ and prints out the two solutions to the quadratic equation $ax^2+bx+c=0$ using the standard formula:\n",
    "$$\n",
    "x=\\frac{-b\\pm\\sqrt{b^2-4ac}}{2a}\n",
    "$$\n",
    "\n",
    "(a) use the program to compute the solution for $a=0.001$, $b=1000$ and $c=0.001$\n",
    "\n",
    "(b) re-express the standard solution formula by multiplying the numerator and the denominator by $-b\\mp\\sqrt{b^2-4ac}$ and again find the solution for $a=0.001$, $b=1000$ and $c=0.001$. How does it compare with what has been previously obtained, and why?\n",
    "\n",
    "(c) write a function that computes the roots of a quadratic equation accurately in all cases"
   ]
  },
  {
   "cell_type": "code",
   "execution_count": 10,
   "metadata": {},
   "outputs": [
    {
     "name": "stdout",
     "output_type": "stream",
     "text": [
      "standard solutions: (-9.999894245993346e-07, -999999.999999)\n",
      "alternative solutions: (-1.000000000001e-06, -1000010.5755125057)\n",
      "the percentage difference bewteen each solution in the two ways is: \n",
      "(-0.0010575513505783878, -0.0010575513505736696)\n",
      "exact solutions: (-1.000000000001e-06, -999999.999999)\n"
     ]
    }
   ],
   "source": [
    "#5th exercise\n",
    "\n",
    "def second(a,b,c):\n",
    "    x1=(-b+(b**2-4*a*c)**0.5)/(2*a)\n",
    "    x2=(-b-(b**2-4*a*c)**0.5)/(2*a)\n",
    "    return x1,x2\n",
    "\n",
    "def alternative(a,b,c):\n",
    "    x1=(2*c)/(-b+(b**2-4*a*c)**0.5)\n",
    "    x2=(2*c)/(-b-(b**2-4*a*c)**0.5)\n",
    "    return x2,x1\n",
    "\n",
    "import math\n",
    "\n",
    "def exact(a,b,c):\n",
    "    x2=(-b-(b**2-4*a*c)**0.5)/(2*a)\n",
    "    x1=(2*c)/(-b-(b**2-4*a*c)**0.5)\n",
    "    return x1,x2\n",
    "\n",
    "a=0.001\n",
    "b=1000\n",
    "c=0.001\n",
    "\n",
    "print('standard solutions: ' + str(second(a,b,c)))\n",
    "s1=second(a,b,c)\n",
    "\n",
    "print('alternative solutions: ' + str(alternative(a,b,c)))\n",
    "s2=alternative(a,b,c)\n",
    "\n",
    "r=( (s1[0]-s2[0])*100 / s1[0] ,  (s1[1]-s2[1])*100 / s1[1] )\n",
    "\n",
    "print('the percentage difference bewteen each solution in the two ways is: ')\n",
    "print(r)\n",
    "\n",
    "e1=exact(a,b,c)\n",
    "print('exact solutions: ' + str(exact(a,b,c)))\n",
    "\n",
    "\n",
    "#the solutions in the two ways are different but the percentage difference is the same. this difference exists because of the precision \n",
    "# of the machine is limitated and the value of a and c is very small.\n",
    "#The alternative function is stable because if we evaluate it in a point x+epsilon, the result will be similar to f(x)=standard function"
   ]
  },
  {
   "cell_type": "markdown",
   "metadata": {},
   "source": [
    "6\\. Write a program that implements the function $f(x)=x(x−1)$\n",
    "\n",
    "(a) Calculate the derivative of the function at the point $x = 1$ using the derivative definition:\n",
    "\n",
    "$$\n",
    "\\frac{{\\rm d}f}{{\\rm d}x} = \\lim_{\\delta\\to0} \\frac{f(x+\\delta)-f(x)}{\\delta}\n",
    "$$\n",
    "\n",
    "with $\\delta = 10^{−2}$. Calculate the true value of the same derivative analytically and compare it with the answer your program gives. The two will not agree perfectly. Why?\n",
    "\n",
    "(b) Repeat the calculation for $\\delta = 10^{−4}, 10^{−6}, 10^{−8}, 10^{−10}, 10^{−12}$ and $10^{−14}$. How does the accuracy scales with $\\delta$?"
   ]
  },
  {
   "cell_type": "code",
   "execution_count": 11,
   "metadata": {},
   "outputs": [
    {
     "data": {
      "text/plain": [
       "0.9992007221626409"
      ]
     },
     "execution_count": 11,
     "metadata": {},
     "output_type": "execute_result"
    }
   ],
   "source": [
    "#6th exercise\n",
    "\n",
    "def f(x):\n",
    "    return x**2-x\n",
    "\n",
    "def derivative(x):\n",
    "    delta=10**-14\n",
    "    return (f(x+delta)-f(x))/delta\n",
    "\n",
    "derivative(1)  \n",
    "#delta=10^-2 -> result:  1.00 99999999999998\n",
    "#delta=10^-4 -> result:  1.0000 999999992821\n",
    "#delta=10^-6 -> result:  1.00000 1000006634\n",
    "#delta=10^-8 -> result:  0.99999999 3922529\n",
    "#delta=10^-10 -> result: 1.0000000 82740371\n",
    "#delta=10^-12 -> result: 1.0000 88900582341\n",
    "#delta=10^-14 -> result: 0.999 2007221626409\n",
    "\n",
    "#there is a reduction of the error till delta=10^-8 and then it increases"
   ]
  },
  {
   "cell_type": "markdown",
   "metadata": {},
   "source": [
    "7\\. Consider the integral of the semicircle of radius 1:\n",
    "$$\n",
    "I=\\int_{-1}^{1} \\sqrt(1-x^2) {\\rm d}x\n",
    "$$\n",
    "which is known to be $I=\\frac{\\pi}{2}=1.57079632679...$.\n",
    "\n",
    "Alternatively we can use the Riemann definition of the integral:\n",
    "$$\n",
    "I=\\lim_{N\\to\\infty} \\sum_{k=1}^{N} h y_k \n",
    "$$\n",
    "\n",
    "with $h=2/N$ the width of each of the $N$ slices the domain is divided into and where\n",
    "$y_k$ is the value of the function at the $k-$th slice.\n",
    "\n",
    "(a) Write a program to compute the integral with $N=100$. How does the result compare to the true value?\n",
    "\n",
    "(b) How much can $N$ be increased if the computation needs to be run in less than a second? What is the gain in running it for 1 minute? \n"
   ]
  },
  {
   "cell_type": "code",
   "execution_count": 7,
   "metadata": {},
   "outputs": [
    {
     "name": "stdout",
     "output_type": "stream",
     "text": [
      "3991680000\n",
      "11\n",
      "1.5707963240393261\n"
     ]
    }
   ],
   "source": [
    "#7th exercise\n",
    "import time\n",
    "\n",
    "def f(x):\n",
    "    return (1-x**2)**0.5\n",
    "\n",
    "cont=0\n",
    "N=100 #instead of using 100 steps for -1,1 I used 50 steps for 0,1\n",
    "start=time.time()\n",
    "end=0.2\n",
    "while(end-start)<60:    #NOTE: the difference is smaller than the threshold only at the entrance of the cycle, at exit there is also the time of running of the cycle\n",
    "    I=0  #re-itizialise to 0 otherwise it would be summed at every cycle\n",
    "    dx=1/N\n",
    "    for n in range(1,N):\n",
    "        I+=dx*f(dx*n)\n",
    "    #print(f(n*dx))\n",
    "    cont+=1\n",
    "    #print(cont)\n",
    "    N=N*cont\n",
    "    #print(N)\n",
    "    #print(end-start)\n",
    "    end=time.time()\n",
    "\n",
    "\n",
    "#(a) with N=100 the result is 1.5602085158895234, lower than the expected one\n",
    "\n",
    "#(b) in 1 second, I achive an N=36288000, but obviusly depends on the way on which N it's increased, the result is 1.570796 0787061874\n",
    "\n",
    "#(b) with a run time of 1 minute, the result is 1.57079632 40393261, so closer to the expected one, there is a gain of 2 digits\n",
    "\n",
    "I=I*2 #it's better to integrate only over an half of the domain and multiply the result by 2\n",
    "print(N)\n",
    "print(cont)\n",
    "print(I)"
   ]
  },
  {
   "cell_type": "code",
   "execution_count": null,
   "metadata": {},
   "outputs": [],
   "source": []
  }
 ],
 "metadata": {
  "kernelspec": {
   "display_name": "Python 3",
   "language": "python",
   "name": "python3"
  },
  "language_info": {
   "codemirror_mode": {
    "name": "ipython",
    "version": 3
   },
   "file_extension": ".py",
   "mimetype": "text/x-python",
   "name": "python",
   "nbconvert_exporter": "python",
   "pygments_lexer": "ipython3",
   "version": "3.8.8"
  }
 },
 "nbformat": 4,
 "nbformat_minor": 4
}
